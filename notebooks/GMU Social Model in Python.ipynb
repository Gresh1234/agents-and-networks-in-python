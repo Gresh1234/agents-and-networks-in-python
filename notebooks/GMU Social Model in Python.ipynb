{
 "cells": [
  {
   "cell_type": "markdown",
   "metadata": {
    "collapsed": true,
    "pycharm": {
     "name": "#%% md\n"
    }
   },
   "source": [
    "# Setup"
   ]
  },
  {
   "cell_type": "code",
   "execution_count": 1,
   "outputs": [],
   "source": [
    "import numpy as np\n",
    "import pandas as pd\n",
    "import matplotlib.pyplot as plt\n",
    "import seaborn as sns\n",
    "\n",
    "sns.set()\n",
    "\n",
    "from src.data.utils import get_coord_matrix, get_affine_transform\n",
    "from src.models.model import GmuSocial"
   ],
   "metadata": {
    "collapsed": false,
    "pycharm": {
     "name": "#%%\n"
    }
   }
  },
  {
   "cell_type": "markdown",
   "source": [
    "## Load Vector Data"
   ],
   "metadata": {
    "collapsed": false,
    "pycharm": {
     "name": "#%% md\n"
    }
   }
  },
  {
   "cell_type": "code",
   "execution_count": 2,
   "outputs": [
    {
     "name": "stderr",
     "output_type": "stream",
     "text": [
      "/Users/boyu/GitHubProjects/gmu-social-in-python/src/models/model.py:48: UserWarning: Geometry is in a geographic CRS. Results from 'centroid' are likely incorrect. Use 'GeoSeries.to_crs()' to re-project geometries to a projected CRS before this operation.\n",
      "\n",
      "  self.gmu_buildings[\"centroid\"] = self.gmu_buildings[\"geometry\"].centroid\n",
      "/Users/boyu/GitHubProjects/gmu-social-in-python/src/data/utils.py:15: FutureWarning: `rcond` parameter will change to the default of machine precision times ``max(M, N)`` where M and N are the input matrix dimensions.\n",
      "To use the future default and silence this warning we advise to pass `rcond=None`, to keep using the old, explicitly pass `rcond=-1`.\n",
      "  A, res, rank, s = np.linalg.lstsq(from_coord, to_coord)\n"
     ]
    },
    {
     "data": {
      "text/plain": "                                      NAME  function  \\\nId                                                     \n1                 GEORGE W. JOHNSON CENTER       1.0   \n2                          DAVID KING HALL       1.0   \n3                       SCIENCE AND TECH I       1.0   \n4                      SCIENCE AND TECH II       1.0   \n5                          ENTERPRISE HALL       1.0   \n..                                     ...       ...   \n57                           CROSS COTTAGE       0.0   \n58  CENTER FOR STUDENT ENGAGEMENT (SUB II)       0.0   \n59                SANDY CREEK PARKING DECK       0.0   \n60                           EASTERN SHORE       0.0   \n61                           HAMPTON ROADS       0.0   \n\n                                             geometry  \\\nId                                                      \n1   POLYGON ((11822517.11166 6987684.10842, 118225...   \n2   POLYGON ((11822800.55434 6987724.17504, 118227...   \n3   POLYGON ((11823106.15955 6987428.08606, 118230...   \n4   POLYGON ((11823144.77700 6987485.86687, 118231...   \n5   POLYGON ((11822946.56417 6987144.44857, 118229...   \n..                                                ...   \n57  POLYGON ((11821649.40986 6987068.51409, 118216...   \n58  POLYGON ((11823355.05141 6987869.56873, 118233...   \n59  POLYGON ((11823486.80798 6987357.73456, 118234...   \n60  POLYGON ((11823475.02538 6988755.30597, 118235...   \n61  POLYGON ((11823106.33699 6988864.05579, 118231...   \n\n                                centroid       centroid_transformed  \nId                                                                   \n1   POINT (11822640.59876 6987512.56961)  POINT (23.15821 17.14446)  \n2   POINT (11822864.48326 6987750.86550)  POINT (26.33261 20.25395)  \n3   POINT (11823017.54177 6987488.48250)  POINT (28.50279 16.83015)  \n4   POINT (11823215.09805 6987415.04893)  POINT (31.30389 15.87192)  \n5   POINT (11823075.80655 6987192.06649)  POINT (29.32891 12.96224)  \n..                                   ...                        ...  \n57  POINT (11821650.18988 6987061.54372)   POINT (9.11544 11.25907)  \n58  POINT (11823386.85056 6987773.89599)  POINT (33.73913 20.55448)  \n59  POINT (11823535.36021 6987128.52445)  POINT (35.84481 12.13309)  \n60  POINT (11823562.86069 6988655.60999)  POINT (36.23473 32.05987)  \n61  POINT (11823297.05130 6988812.29401)  POINT (32.46589 34.10442)  \n\n[61 rows x 5 columns]",
      "text/html": "<div>\n<style scoped>\n    .dataframe tbody tr th:only-of-type {\n        vertical-align: middle;\n    }\n\n    .dataframe tbody tr th {\n        vertical-align: top;\n    }\n\n    .dataframe thead th {\n        text-align: right;\n    }\n</style>\n<table border=\"1\" class=\"dataframe\">\n  <thead>\n    <tr style=\"text-align: right;\">\n      <th></th>\n      <th>NAME</th>\n      <th>function</th>\n      <th>geometry</th>\n      <th>centroid</th>\n      <th>centroid_transformed</th>\n    </tr>\n    <tr>\n      <th>Id</th>\n      <th></th>\n      <th></th>\n      <th></th>\n      <th></th>\n      <th></th>\n    </tr>\n  </thead>\n  <tbody>\n    <tr>\n      <th>1</th>\n      <td>GEORGE W. JOHNSON CENTER</td>\n      <td>1.0</td>\n      <td>POLYGON ((11822517.11166 6987684.10842, 118225...</td>\n      <td>POINT (11822640.59876 6987512.56961)</td>\n      <td>POINT (23.15821 17.14446)</td>\n    </tr>\n    <tr>\n      <th>2</th>\n      <td>DAVID KING HALL</td>\n      <td>1.0</td>\n      <td>POLYGON ((11822800.55434 6987724.17504, 118227...</td>\n      <td>POINT (11822864.48326 6987750.86550)</td>\n      <td>POINT (26.33261 20.25395)</td>\n    </tr>\n    <tr>\n      <th>3</th>\n      <td>SCIENCE AND TECH I</td>\n      <td>1.0</td>\n      <td>POLYGON ((11823106.15955 6987428.08606, 118230...</td>\n      <td>POINT (11823017.54177 6987488.48250)</td>\n      <td>POINT (28.50279 16.83015)</td>\n    </tr>\n    <tr>\n      <th>4</th>\n      <td>SCIENCE AND TECH II</td>\n      <td>1.0</td>\n      <td>POLYGON ((11823144.77700 6987485.86687, 118231...</td>\n      <td>POINT (11823215.09805 6987415.04893)</td>\n      <td>POINT (31.30389 15.87192)</td>\n    </tr>\n    <tr>\n      <th>5</th>\n      <td>ENTERPRISE HALL</td>\n      <td>1.0</td>\n      <td>POLYGON ((11822946.56417 6987144.44857, 118229...</td>\n      <td>POINT (11823075.80655 6987192.06649)</td>\n      <td>POINT (29.32891 12.96224)</td>\n    </tr>\n    <tr>\n      <th>...</th>\n      <td>...</td>\n      <td>...</td>\n      <td>...</td>\n      <td>...</td>\n      <td>...</td>\n    </tr>\n    <tr>\n      <th>57</th>\n      <td>CROSS COTTAGE</td>\n      <td>0.0</td>\n      <td>POLYGON ((11821649.40986 6987068.51409, 118216...</td>\n      <td>POINT (11821650.18988 6987061.54372)</td>\n      <td>POINT (9.11544 11.25907)</td>\n    </tr>\n    <tr>\n      <th>58</th>\n      <td>CENTER FOR STUDENT ENGAGEMENT (SUB II)</td>\n      <td>0.0</td>\n      <td>POLYGON ((11823355.05141 6987869.56873, 118233...</td>\n      <td>POINT (11823386.85056 6987773.89599)</td>\n      <td>POINT (33.73913 20.55448)</td>\n    </tr>\n    <tr>\n      <th>59</th>\n      <td>SANDY CREEK PARKING DECK</td>\n      <td>0.0</td>\n      <td>POLYGON ((11823486.80798 6987357.73456, 118234...</td>\n      <td>POINT (11823535.36021 6987128.52445)</td>\n      <td>POINT (35.84481 12.13309)</td>\n    </tr>\n    <tr>\n      <th>60</th>\n      <td>EASTERN SHORE</td>\n      <td>0.0</td>\n      <td>POLYGON ((11823475.02538 6988755.30597, 118235...</td>\n      <td>POINT (11823562.86069 6988655.60999)</td>\n      <td>POINT (36.23473 32.05987)</td>\n    </tr>\n    <tr>\n      <th>61</th>\n      <td>HAMPTON ROADS</td>\n      <td>0.0</td>\n      <td>POLYGON ((11823106.33699 6988864.05579, 118231...</td>\n      <td>POINT (11823297.05130 6988812.29401)</td>\n      <td>POINT (32.46589 34.10442)</td>\n    </tr>\n  </tbody>\n</table>\n<p>61 rows × 5 columns</p>\n</div>"
     },
     "execution_count": 2,
     "metadata": {},
     "output_type": "execute_result"
    }
   ],
   "source": [
    "gmu_social_model = GmuSocial(gmu_buildings_file=\"../data/raw/campus/Mason_bld.shp\",\n",
    "                             gmu_walkway_file=\"../data/raw/campus/Mason_walkway_line.shp\",\n",
    "                             world_size_file=\"../data/raw/campus/world.shp\")\n",
    "gmu_social_model.gmu_buildings"
   ],
   "metadata": {
    "collapsed": false,
    "pycharm": {
     "name": "#%%\n"
    }
   }
  },
  {
   "cell_type": "code",
   "execution_count": 3,
   "outputs": [
    {
     "data": {
      "text/plain": "<seaborn.axisgrid.FacetGrid at 0x1396d3f40>"
     },
     "execution_count": 3,
     "metadata": {},
     "output_type": "execute_result"
    },
    {
     "data": {
      "text/plain": "<Figure size 360x360 with 1 Axes>",
      "image/png": "[encoded data removed]"
     },
     "metadata": {},
     "output_type": "display_data"
    }
   ],
   "source": [
    "# following the netlogo model, fill na with 0.0\n",
    "sns.catplot(x=\"function\", data=gmu_social_model.gmu_buildings.sort_values(by=\"function\").fillna(\"missing\"), kind=\"count\")"
   ],
   "metadata": {
    "collapsed": false,
    "pycharm": {
     "name": "#%%\n"
    }
   }
  },
  {
   "cell_type": "code",
   "execution_count": 4,
   "outputs": [
    {
     "data": {
      "text/plain": "                                             geometry  \\\nId                                                      \n0   LINESTRING (11822464.14699 6988476.89551, 1182...   \n0   LINESTRING (11822594.10614 6988242.26927, 1182...   \n0   LINESTRING (11822329.18942 6988193.98445, 1182...   \n0   LINESTRING (11822698.07345 6987962.35727, 1182...   \n0   LINESTRING (11822695.07439 6987952.56035, 1182...   \n..                                                ...   \n0   LINESTRING (11823370.26496 6987341.02044, 1182...   \n0   LINESTRING (11823370.26496 6987341.02044, 1182...   \n0   LINESTRING (11822149.47828 6987062.23034, 1182...   \n0   LINESTRING (11823150.92318 6988951.16687, 1182...   \n0   LINESTRING (11823229.65944 6987150.19547, 1182...   \n\n                                 geometry_transformed  \nId                                                     \n0   LINESTRING (20.65634 29.72784, 22.49900 26.66623)  \n0   LINESTRING (22.49900 26.66623, 22.92423 25.883...  \n0   LINESTRING (18.74281 26.03617, 21.88950 27.65372)  \n0   LINESTRING (23.97313 23.01369, 23.93060 22.885...  \n0   LINESTRING (23.93060 22.88585, 23.51955 21.76530)  \n..                                                ...  \n0   LINESTRING (33.50396 14.90593, 33.03336 14.652...  \n0   LINESTRING (33.50396 14.90593, 33.71492 15.070...  \n0   LINESTRING (16.19473 11.26803, 16.48335 10.670...  \n0   LINESTRING (30.39397 35.91656, 31.17590 35.844...  \n0   LINESTRING (31.51035 12.41587, 31.52921 12.376...  \n\n[201 rows x 2 columns]",
      "text/html": "<div>\n<style scoped>\n    .dataframe tbody tr th:only-of-type {\n        vertical-align: middle;\n    }\n\n    .dataframe tbody tr th {\n        vertical-align: top;\n    }\n\n    .dataframe thead th {\n        text-align: right;\n    }\n</style>\n<table border=\"1\" class=\"dataframe\">\n  <thead>\n    <tr style=\"text-align: right;\">\n      <th></th>\n      <th>geometry</th>\n      <th>geometry_transformed</th>\n    </tr>\n    <tr>\n      <th>Id</th>\n      <th></th>\n      <th></th>\n    </tr>\n  </thead>\n  <tbody>\n    <tr>\n      <th>0</th>\n      <td>LINESTRING (11822464.14699 6988476.89551, 1182...</td>\n      <td>LINESTRING (20.65634 29.72784, 22.49900 26.66623)</td>\n    </tr>\n    <tr>\n      <th>0</th>\n      <td>LINESTRING (11822594.10614 6988242.26927, 1182...</td>\n      <td>LINESTRING (22.49900 26.66623, 22.92423 25.883...</td>\n    </tr>\n    <tr>\n      <th>0</th>\n      <td>LINESTRING (11822329.18942 6988193.98445, 1182...</td>\n      <td>LINESTRING (18.74281 26.03617, 21.88950 27.65372)</td>\n    </tr>\n    <tr>\n      <th>0</th>\n      <td>LINESTRING (11822698.07345 6987962.35727, 1182...</td>\n      <td>LINESTRING (23.97313 23.01369, 23.93060 22.885...</td>\n    </tr>\n    <tr>\n      <th>0</th>\n      <td>LINESTRING (11822695.07439 6987952.56035, 1182...</td>\n      <td>LINESTRING (23.93060 22.88585, 23.51955 21.76530)</td>\n    </tr>\n    <tr>\n      <th>...</th>\n      <td>...</td>\n      <td>...</td>\n    </tr>\n    <tr>\n      <th>0</th>\n      <td>LINESTRING (11823370.26496 6987341.02044, 1182...</td>\n      <td>LINESTRING (33.50396 14.90593, 33.03336 14.652...</td>\n    </tr>\n    <tr>\n      <th>0</th>\n      <td>LINESTRING (11823370.26496 6987341.02044, 1182...</td>\n      <td>LINESTRING (33.50396 14.90593, 33.71492 15.070...</td>\n    </tr>\n    <tr>\n      <th>0</th>\n      <td>LINESTRING (11822149.47828 6987062.23034, 1182...</td>\n      <td>LINESTRING (16.19473 11.26803, 16.48335 10.670...</td>\n    </tr>\n    <tr>\n      <th>0</th>\n      <td>LINESTRING (11823150.92318 6988951.16687, 1182...</td>\n      <td>LINESTRING (30.39397 35.91656, 31.17590 35.844...</td>\n    </tr>\n    <tr>\n      <th>0</th>\n      <td>LINESTRING (11823229.65944 6987150.19547, 1182...</td>\n      <td>LINESTRING (31.51035 12.41587, 31.52921 12.376...</td>\n    </tr>\n  </tbody>\n</table>\n<p>201 rows × 2 columns</p>\n</div>"
     },
     "execution_count": 4,
     "metadata": {},
     "output_type": "execute_result"
    }
   ],
   "source": [
    "gmu_social_model.gmu_walkway"
   ],
   "metadata": {
    "collapsed": false,
    "pycharm": {
     "name": "#%%\n"
    }
   }
  },
  {
   "cell_type": "code",
   "execution_count": 5,
   "outputs": [
    {
     "data": {
      "text/plain": "                                             geometry\nId                                                   \n0   POLYGON ((11821007.29556 6989187.46574, 118265...",
      "text/html": "<div>\n<style scoped>\n    .dataframe tbody tr th:only-of-type {\n        vertical-align: middle;\n    }\n\n    .dataframe tbody tr th {\n        vertical-align: top;\n    }\n\n    .dataframe thead th {\n        text-align: right;\n    }\n</style>\n<table border=\"1\" class=\"dataframe\">\n  <thead>\n    <tr style=\"text-align: right;\">\n      <th></th>\n      <th>geometry</th>\n    </tr>\n    <tr>\n      <th>Id</th>\n      <th></th>\n    </tr>\n  </thead>\n  <tbody>\n    <tr>\n      <th>0</th>\n      <td>POLYGON ((11821007.29556 6989187.46574, 118265...</td>\n    </tr>\n  </tbody>\n</table>\n</div>"
     },
     "execution_count": 5,
     "metadata": {},
     "output_type": "execute_result"
    }
   ],
   "source": [
    "gmu_social_model.world_size"
   ],
   "metadata": {
    "collapsed": false,
    "pycharm": {
     "name": "#%%\n"
    }
   }
  },
  {
   "cell_type": "markdown",
   "source": [],
   "metadata": {
    "collapsed": false,
    "pycharm": {
     "name": "#%% md\n"
    }
   }
  },
  {
   "cell_type": "markdown",
   "source": [
    "## Affine Transformation\n",
    "\n",
    "The transformation is already done in the model constructor."
   ],
   "metadata": {
    "collapsed": false,
    "pycharm": {
     "name": "#%% md\n"
    }
   }
  },
  {
   "cell_type": "code",
   "execution_count": 6,
   "outputs": [
    {
     "data": {
      "text/plain": "Id\n0    POLYGON ((11821007.29556 6986198.70691, 118265...\ndtype: geometry"
     },
     "execution_count": 6,
     "metadata": {},
     "output_type": "execute_result"
    }
   ],
   "source": [
    "gmu_social_model.world_size.envelope"
   ],
   "metadata": {
    "collapsed": false,
    "pycharm": {
     "name": "#%%\n"
    }
   }
  },
  {
   "cell_type": "code",
   "execution_count": 7,
   "outputs": [
    {
     "data": {
      "text/plain": "<seaborn.axisgrid.FacetGrid at 0x13b097d60>"
     },
     "execution_count": 7,
     "metadata": {},
     "output_type": "execute_result"
    },
    {
     "data": {
      "text/plain": "<Figure size 360x360 with 1 Axes>",
      "image/png": "[encoded data removed]"
     },
     "metadata": {},
     "output_type": "display_data"
    }
   ],
   "source": [
    "world_envelope_df = pd.DataFrame([(x, y) for x, y in zip(*gmu_social_model.world_size.envelope[0].exterior.coords.xy)],\n",
    "                                 columns=[\"x\", \"y\"])\n",
    "assert len(world_envelope_df) == 5\n",
    "np.testing.assert_array_equal(world_envelope_df.iloc[0].values, world_envelope_df.iloc[\n",
    "    -1].values)  # first and last points are the same in the envelope polygon\n",
    "world_envelope_df = world_envelope_df[:-1]  # remove last point which is redundant\n",
    "\n",
    "sns.relplot(x=\"x\", y=\"y\", data=world_envelope_df, kind=\"scatter\")"
   ],
   "metadata": {
    "collapsed": false,
    "pycharm": {
     "name": "#%%\n"
    }
   }
  },
  {
   "cell_type": "code",
   "execution_count": 8,
   "outputs": [
    {
     "data": {
      "text/plain": "array([[1.18210073e+07, 6.98619871e+06, 1.00000000e+00],\n       [1.18210073e+07, 6.98918747e+06, 1.00000000e+00],\n       [1.18265790e+07, 6.98619871e+06, 1.00000000e+00],\n       [1.18265790e+07, 6.98918747e+06, 1.00000000e+00]])"
     },
     "execution_count": 8,
     "metadata": {},
     "output_type": "execute_result"
    }
   ],
   "source": [
    "world_envelope_coords = get_coord_matrix(x_min=world_envelope_df[\"x\"].min(), x_max=world_envelope_df[\"x\"].max(),\n",
    "                                         y_min=world_envelope_df[\"y\"].min(), y_max=world_envelope_df[\"y\"].max())\n",
    "world_envelope_coords"
   ],
   "metadata": {
    "collapsed": false,
    "pycharm": {
     "name": "#%%\n"
    }
   }
  },
  {
   "cell_type": "code",
   "execution_count": 9,
   "outputs": [
    {
     "data": {
      "text/plain": "array([[ 0.,  0.,  1.],\n       [ 0., 39.,  1.],\n       [79.,  0.,  1.],\n       [79., 39.,  1.]])"
     },
     "execution_count": 9,
     "metadata": {},
     "output_type": "execute_result"
    }
   ],
   "source": [
    "netlogo_min_pxcor, netlogo_max_pxcor = 0, 79\n",
    "netlogo_min_pycor, netlogo_max_pycor = 0, 39\n",
    "netlogo_world_coords = get_coord_matrix(x_min=netlogo_min_pxcor, x_max=netlogo_max_pxcor, y_min=netlogo_min_pycor,\n",
    "                                        y_max=netlogo_max_pycor)\n",
    "netlogo_world_coords"
   ],
   "metadata": {
    "collapsed": false,
    "pycharm": {
     "name": "#%%\n"
    }
   }
  },
  {
   "cell_type": "code",
   "execution_count": 10,
   "outputs": [
    {
     "name": "stderr",
     "output_type": "stream",
     "text": [
      "/Users/boyu/GitHubProjects/gmu-social-in-python/src/data/utils.py:15: FutureWarning: `rcond` parameter will change to the default of machine precision times ``max(M, N)`` where M and N are the input matrix dimensions.\n",
      "To use the future default and silence this warning we advise to pass `rcond=None`, to keep using the old, explicitly pass `rcond=-1`.\n",
      "  A, res, rank, s = np.linalg.lstsq(from_coord, to_coord)\n"
     ]
    },
    {
     "data": {
      "text/plain": "(0.014178754839110306,\n 4.0939474033052647e-16,\n -1.8492542826979613e-15,\n 0.01304889498301628,\n -167607.16439505797,\n -91162.17325698886)"
     },
     "execution_count": 10,
     "metadata": {},
     "output_type": "execute_result"
    }
   ],
   "source": [
    "affine_transform = get_affine_transform(from_coord=world_envelope_coords, to_coord=netlogo_world_coords)\n",
    "affine_transform"
   ],
   "metadata": {
    "collapsed": false,
    "pycharm": {
     "name": "#%%\n"
    }
   }
  },
  {
   "cell_type": "code",
   "execution_count": 11,
   "outputs": [
    {
     "data": {
      "text/plain": "Id\n1     POINT (23.15821 17.14446)\n2     POINT (26.33261 20.25395)\n3     POINT (28.50279 16.83015)\n4     POINT (31.30389 15.87192)\n5     POINT (29.32891 12.96224)\n                ...            \n57     POINT (9.11544 11.25907)\n58    POINT (33.73913 20.55448)\n59    POINT (35.84481 12.13309)\n60    POINT (36.23473 32.05987)\n61    POINT (32.46589 34.10442)\nName: centroid_transformed, Length: 61, dtype: geometry"
     },
     "execution_count": 11,
     "metadata": {},
     "output_type": "execute_result"
    }
   ],
   "source": [
    "# transformed in the model constructor\n",
    "gmu_social_model.gmu_buildings[\"centroid_transformed\"]"
   ],
   "metadata": {
    "collapsed": false,
    "pycharm": {
     "name": "#%%\n"
    }
   }
  },
  {
   "cell_type": "code",
   "execution_count": 12,
   "outputs": [
    {
     "data": {
      "text/plain": "Id\n0    LINESTRING (20.65634 29.72784, 22.49900 26.66623)\n0    LINESTRING (22.49900 26.66623, 22.92423 25.883...\n0    LINESTRING (18.74281 26.03617, 21.88950 27.65372)\n0    LINESTRING (23.97313 23.01369, 23.93060 22.885...\n0    LINESTRING (23.93060 22.88585, 23.51955 21.76530)\n                           ...                        \n0    LINESTRING (33.50396 14.90593, 33.03336 14.652...\n0    LINESTRING (33.50396 14.90593, 33.71492 15.070...\n0    LINESTRING (16.19473 11.26803, 16.48335 10.670...\n0    LINESTRING (30.39397 35.91656, 31.17590 35.844...\n0    LINESTRING (31.51035 12.41587, 31.52921 12.376...\nName: geometry_transformed, Length: 201, dtype: geometry"
     },
     "execution_count": 12,
     "metadata": {},
     "output_type": "execute_result"
    }
   ],
   "source": [
    "# transformed in the model constructor\n",
    "gmu_social_model.gmu_walkway[\"geometry_transformed\"]"
   ],
   "metadata": {
    "collapsed": false,
    "pycharm": {
     "name": "#%%\n"
    }
   }
  },
  {
   "cell_type": "code",
   "execution_count": 12,
   "outputs": [],
   "source": [],
   "metadata": {
    "collapsed": false,
    "pycharm": {
     "name": "#%%\n"
    }
   }
  }
 ],
 "metadata": {
  "kernelspec": {
   "display_name": "Python 3",
   "language": "python",
   "name": "python3"
  },
  "language_info": {
   "codemirror_mode": {
    "name": "ipython",
    "version": 2
   },
   "file_extension": ".py",
   "mimetype": "text/x-python",
   "name": "python",
   "nbconvert_exporter": "python",
   "pygments_lexer": "ipython2",
   "version": "2.7.6"
  }
 },
 "nbformat": 4,
 "nbformat_minor": 0
}