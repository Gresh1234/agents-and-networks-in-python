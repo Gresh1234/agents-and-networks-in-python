{
 "cells": [
  {
   "cell_type": "markdown",
   "metadata": {
    "collapsed": true,
    "pycharm": {
     "name": "#%% md\n"
    }
   },
   "source": [
    "# Setup"
   ]
  },
  {
   "cell_type": "code",
   "execution_count": 1,
   "outputs": [],
   "source": [
    "import numpy as np\n",
    "import pandas as pd\n",
    "import geopandas as gpd\n",
    "import matplotlib.pyplot as plt\n",
    "import seaborn as sns\n",
    "sns.set()"
   ],
   "metadata": {
    "collapsed": false,
    "pycharm": {
     "name": "#%%\n"
    }
   }
  },
  {
   "cell_type": "markdown",
   "source": [
    "# Load Vector Data\n",
    "\n",
    "```\n",
    "set gmu-buildings gis:load-dataset \"data/Campus_data/Mason_bld.shp\"\n",
    "\n",
    "set gmu-walkway gis:load-dataset \"data/Campus_data/Mason_walkway_line.shp\"\n",
    "\n",
    "set world-size gis:load-dataset \"data/Campus_data/world.shp\"\n",
    "```"
   ],
   "metadata": {
    "collapsed": false,
    "pycharm": {
     "name": "#%% md\n"
    }
   }
  },
  {
   "cell_type": "code",
   "execution_count": 2,
   "outputs": [
    {
     "name": "stderr",
     "output_type": "stream",
     "text": [
      "/var/folders/x9/b96ywfds44db4d1fc3z0z51h0000gn/T/ipykernel_60060/1605866093.py:2: UserWarning: Geometry is in a geographic CRS. Results from 'centroid' are likely incorrect. Use 'GeoSeries.to_crs()' to re-project geometries to a projected CRS before this operation.\n",
      "\n",
      "  gmu_buildings[\"centroid\"] = gmu_buildings[\"geometry\"].centroid\n"
     ]
    },
    {
     "data": {
      "text/plain": "                                      NAME  function  \\\nId                                                     \n1                 GEORGE W. JOHNSON CENTER       1.0   \n2                          DAVID KING HALL       1.0   \n3                       SCIENCE AND TECH I       1.0   \n4                      SCIENCE AND TECH II       1.0   \n5                          ENTERPRISE HALL       1.0   \n..                                     ...       ...   \n57                           CROSS COTTAGE       NaN   \n58  CENTER FOR STUDENT ENGAGEMENT (SUB II)       NaN   \n59                SANDY CREEK PARKING DECK       NaN   \n60                           EASTERN SHORE       NaN   \n61                           HAMPTON ROADS       NaN   \n\n                                             geometry  \\\nId                                                      \n1   POLYGON ((11822517.11166 6987684.10842, 118225...   \n2   POLYGON ((11822800.55434 6987724.17504, 118227...   \n3   POLYGON ((11823106.15955 6987428.08606, 118230...   \n4   POLYGON ((11823144.77700 6987485.86687, 118231...   \n5   POLYGON ((11822946.56417 6987144.44857, 118229...   \n..                                                ...   \n57  POLYGON ((11821649.40986 6987068.51409, 118216...   \n58  POLYGON ((11823355.05141 6987869.56873, 118233...   \n59  POLYGON ((11823486.80798 6987357.73456, 118234...   \n60  POLYGON ((11823475.02538 6988755.30597, 118235...   \n61  POLYGON ((11823106.33699 6988864.05579, 118231...   \n\n                                centroid  \nId                                        \n1   POINT (11822640.59876 6987512.56961)  \n2   POINT (11822864.48326 6987750.86550)  \n3   POINT (11823017.54177 6987488.48250)  \n4   POINT (11823215.09805 6987415.04893)  \n5   POINT (11823075.80655 6987192.06649)  \n..                                   ...  \n57  POINT (11821650.18988 6987061.54372)  \n58  POINT (11823386.85056 6987773.89599)  \n59  POINT (11823535.36021 6987128.52445)  \n60  POINT (11823562.86069 6988655.60999)  \n61  POINT (11823297.05130 6988812.29401)  \n\n[61 rows x 4 columns]",
      "text/html": "<div>\n<style scoped>\n    .dataframe tbody tr th:only-of-type {\n        vertical-align: middle;\n    }\n\n    .dataframe tbody tr th {\n        vertical-align: top;\n    }\n\n    .dataframe thead th {\n        text-align: right;\n    }\n</style>\n<table border=\"1\" class=\"dataframe\">\n  <thead>\n    <tr style=\"text-align: right;\">\n      <th></th>\n      <th>NAME</th>\n      <th>function</th>\n      <th>geometry</th>\n      <th>centroid</th>\n    </tr>\n    <tr>\n      <th>Id</th>\n      <th></th>\n      <th></th>\n      <th></th>\n      <th></th>\n    </tr>\n  </thead>\n  <tbody>\n    <tr>\n      <th>1</th>\n      <td>GEORGE W. JOHNSON CENTER</td>\n      <td>1.0</td>\n      <td>POLYGON ((11822517.11166 6987684.10842, 118225...</td>\n      <td>POINT (11822640.59876 6987512.56961)</td>\n    </tr>\n    <tr>\n      <th>2</th>\n      <td>DAVID KING HALL</td>\n      <td>1.0</td>\n      <td>POLYGON ((11822800.55434 6987724.17504, 118227...</td>\n      <td>POINT (11822864.48326 6987750.86550)</td>\n    </tr>\n    <tr>\n      <th>3</th>\n      <td>SCIENCE AND TECH I</td>\n      <td>1.0</td>\n      <td>POLYGON ((11823106.15955 6987428.08606, 118230...</td>\n      <td>POINT (11823017.54177 6987488.48250)</td>\n    </tr>\n    <tr>\n      <th>4</th>\n      <td>SCIENCE AND TECH II</td>\n      <td>1.0</td>\n      <td>POLYGON ((11823144.77700 6987485.86687, 118231...</td>\n      <td>POINT (11823215.09805 6987415.04893)</td>\n    </tr>\n    <tr>\n      <th>5</th>\n      <td>ENTERPRISE HALL</td>\n      <td>1.0</td>\n      <td>POLYGON ((11822946.56417 6987144.44857, 118229...</td>\n      <td>POINT (11823075.80655 6987192.06649)</td>\n    </tr>\n    <tr>\n      <th>...</th>\n      <td>...</td>\n      <td>...</td>\n      <td>...</td>\n      <td>...</td>\n    </tr>\n    <tr>\n      <th>57</th>\n      <td>CROSS COTTAGE</td>\n      <td>NaN</td>\n      <td>POLYGON ((11821649.40986 6987068.51409, 118216...</td>\n      <td>POINT (11821650.18988 6987061.54372)</td>\n    </tr>\n    <tr>\n      <th>58</th>\n      <td>CENTER FOR STUDENT ENGAGEMENT (SUB II)</td>\n      <td>NaN</td>\n      <td>POLYGON ((11823355.05141 6987869.56873, 118233...</td>\n      <td>POINT (11823386.85056 6987773.89599)</td>\n    </tr>\n    <tr>\n      <th>59</th>\n      <td>SANDY CREEK PARKING DECK</td>\n      <td>NaN</td>\n      <td>POLYGON ((11823486.80798 6987357.73456, 118234...</td>\n      <td>POINT (11823535.36021 6987128.52445)</td>\n    </tr>\n    <tr>\n      <th>60</th>\n      <td>EASTERN SHORE</td>\n      <td>NaN</td>\n      <td>POLYGON ((11823475.02538 6988755.30597, 118235...</td>\n      <td>POINT (11823562.86069 6988655.60999)</td>\n    </tr>\n    <tr>\n      <th>61</th>\n      <td>HAMPTON ROADS</td>\n      <td>NaN</td>\n      <td>POLYGON ((11823106.33699 6988864.05579, 118231...</td>\n      <td>POINT (11823297.05130 6988812.29401)</td>\n    </tr>\n  </tbody>\n</table>\n<p>61 rows × 4 columns</p>\n</div>"
     },
     "execution_count": 2,
     "metadata": {},
     "output_type": "execute_result"
    }
   ],
   "source": [
    "gmu_buildings = gpd.read_file(\"../data/raw/campus/Mason_bld.shp\").set_index(\"Id\")\n",
    "gmu_buildings[\"centroid\"] = gmu_buildings[\"geometry\"].centroid\n",
    "gmu_buildings"
   ],
   "metadata": {
    "collapsed": false,
    "pycharm": {
     "name": "#%%\n"
    }
   }
  },
  {
   "cell_type": "code",
   "execution_count": 3,
   "outputs": [
    {
     "data": {
      "text/plain": "<seaborn.axisgrid.FacetGrid at 0x13271fdf0>"
     },
     "execution_count": 3,
     "metadata": {},
     "output_type": "execute_result"
    },
    {
     "data": {
      "text/plain": "<Figure size 360x360 with 1 Axes>",
      "image/png": "[encoded data removed]"
     },
     "metadata": {},
     "output_type": "display_data"
    }
   ],
   "source": [
    "sns.catplot(x=\"function\", data=gmu_buildings.sort_values(by=\"function\").fillna(\"missing\"), kind=\"count\")"
   ],
   "metadata": {
    "collapsed": false,
    "pycharm": {
     "name": "#%%\n"
    }
   }
  },
  {
   "cell_type": "code",
   "execution_count": 4,
   "outputs": [
    {
     "data": {
      "text/plain": "<seaborn.axisgrid.FacetGrid at 0x132806f70>"
     },
     "execution_count": 4,
     "metadata": {},
     "output_type": "execute_result"
    },
    {
     "data": {
      "text/plain": "<Figure size 360x360 with 1 Axes>",
      "image/png": "[encoded data removed]"
     },
     "metadata": {},
     "output_type": "display_data"
    }
   ],
   "source": [
    "# following the netlogo model, fill na with 0.0\n",
    "gmu_buildings[\"function\"].fillna(0.0, inplace=True)\n",
    "sns.catplot(x=\"function\", data=gmu_buildings.sort_values(by=\"function\"), kind=\"count\")"
   ],
   "metadata": {
    "collapsed": false,
    "pycharm": {
     "name": "#%%\n"
    }
   }
  },
  {
   "cell_type": "code",
   "execution_count": 5,
   "outputs": [
    {
     "data": {
      "text/plain": "                                             geometry\nId                                                   \n0   LINESTRING (11822464.14699 6988476.89551, 1182...\n0   LINESTRING (11822594.10614 6988242.26927, 1182...\n0   LINESTRING (11822329.18942 6988193.98445, 1182...\n0   LINESTRING (11822698.07345 6987962.35727, 1182...\n0   LINESTRING (11822695.07439 6987952.56035, 1182...\n..                                                ...\n0   LINESTRING (11823370.26496 6987341.02044, 1182...\n0   LINESTRING (11823370.26496 6987341.02044, 1182...\n0   LINESTRING (11822149.47828 6987062.23034, 1182...\n0   LINESTRING (11823150.92318 6988951.16687, 1182...\n0   LINESTRING (11823229.65944 6987150.19547, 1182...\n\n[201 rows x 1 columns]",
      "text/html": "<div>\n<style scoped>\n    .dataframe tbody tr th:only-of-type {\n        vertical-align: middle;\n    }\n\n    .dataframe tbody tr th {\n        vertical-align: top;\n    }\n\n    .dataframe thead th {\n        text-align: right;\n    }\n</style>\n<table border=\"1\" class=\"dataframe\">\n  <thead>\n    <tr style=\"text-align: right;\">\n      <th></th>\n      <th>geometry</th>\n    </tr>\n    <tr>\n      <th>Id</th>\n      <th></th>\n    </tr>\n  </thead>\n  <tbody>\n    <tr>\n      <th>0</th>\n      <td>LINESTRING (11822464.14699 6988476.89551, 1182...</td>\n    </tr>\n    <tr>\n      <th>0</th>\n      <td>LINESTRING (11822594.10614 6988242.26927, 1182...</td>\n    </tr>\n    <tr>\n      <th>0</th>\n      <td>LINESTRING (11822329.18942 6988193.98445, 1182...</td>\n    </tr>\n    <tr>\n      <th>0</th>\n      <td>LINESTRING (11822698.07345 6987962.35727, 1182...</td>\n    </tr>\n    <tr>\n      <th>0</th>\n      <td>LINESTRING (11822695.07439 6987952.56035, 1182...</td>\n    </tr>\n    <tr>\n      <th>...</th>\n      <td>...</td>\n    </tr>\n    <tr>\n      <th>0</th>\n      <td>LINESTRING (11823370.26496 6987341.02044, 1182...</td>\n    </tr>\n    <tr>\n      <th>0</th>\n      <td>LINESTRING (11823370.26496 6987341.02044, 1182...</td>\n    </tr>\n    <tr>\n      <th>0</th>\n      <td>LINESTRING (11822149.47828 6987062.23034, 1182...</td>\n    </tr>\n    <tr>\n      <th>0</th>\n      <td>LINESTRING (11823150.92318 6988951.16687, 1182...</td>\n    </tr>\n    <tr>\n      <th>0</th>\n      <td>LINESTRING (11823229.65944 6987150.19547, 1182...</td>\n    </tr>\n  </tbody>\n</table>\n<p>201 rows × 1 columns</p>\n</div>"
     },
     "execution_count": 5,
     "metadata": {},
     "output_type": "execute_result"
    }
   ],
   "source": [
    "gmu_walkway = gpd.read_file(\"../data/raw/campus/Mason_walkway_line.shp\").set_index(\"Id\")\n",
    "gmu_walkway"
   ],
   "metadata": {
    "collapsed": false,
    "pycharm": {
     "name": "#%%\n"
    }
   }
  },
  {
   "cell_type": "markdown",
   "source": [],
   "metadata": {
    "collapsed": false,
    "pycharm": {
     "name": "#%% md\n"
    }
   }
  },
  {
   "cell_type": "code",
   "execution_count": 6,
   "outputs": [
    {
     "data": {
      "text/plain": "                                             geometry\nId                                                   \n0   POLYGON ((11821007.29556 6989187.46574, 118265...",
      "text/html": "<div>\n<style scoped>\n    .dataframe tbody tr th:only-of-type {\n        vertical-align: middle;\n    }\n\n    .dataframe tbody tr th {\n        vertical-align: top;\n    }\n\n    .dataframe thead th {\n        text-align: right;\n    }\n</style>\n<table border=\"1\" class=\"dataframe\">\n  <thead>\n    <tr style=\"text-align: right;\">\n      <th></th>\n      <th>geometry</th>\n    </tr>\n    <tr>\n      <th>Id</th>\n      <th></th>\n    </tr>\n  </thead>\n  <tbody>\n    <tr>\n      <th>0</th>\n      <td>POLYGON ((11821007.29556 6989187.46574, 118265...</td>\n    </tr>\n  </tbody>\n</table>\n</div>"
     },
     "execution_count": 6,
     "metadata": {},
     "output_type": "execute_result"
    }
   ],
   "source": [
    "world_size = gpd.read_file(\"../data/raw/campus/world.shp\").set_index(\"Id\")\n",
    "world_size"
   ],
   "metadata": {
    "collapsed": false,
    "pycharm": {
     "name": "#%%\n"
    }
   }
  },
  {
   "cell_type": "markdown",
   "source": [],
   "metadata": {
    "collapsed": false,
    "pycharm": {
     "name": "#%% md\n"
    }
   }
  },
  {
   "cell_type": "markdown",
   "source": [
    "## Affine Transformation"
   ],
   "metadata": {
    "collapsed": false,
    "pycharm": {
     "name": "#%% md\n"
    }
   }
  },
  {
   "cell_type": "code",
   "execution_count": 7,
   "outputs": [
    {
     "data": {
      "text/plain": "            minx          miny          maxx          maxy\nId                                                        \n0   1.182101e+07  6.986199e+06  1.182658e+07  6.989187e+06",
      "text/html": "<div>\n<style scoped>\n    .dataframe tbody tr th:only-of-type {\n        vertical-align: middle;\n    }\n\n    .dataframe tbody tr th {\n        vertical-align: top;\n    }\n\n    .dataframe thead th {\n        text-align: right;\n    }\n</style>\n<table border=\"1\" class=\"dataframe\">\n  <thead>\n    <tr style=\"text-align: right;\">\n      <th></th>\n      <th>minx</th>\n      <th>miny</th>\n      <th>maxx</th>\n      <th>maxy</th>\n    </tr>\n    <tr>\n      <th>Id</th>\n      <th></th>\n      <th></th>\n      <th></th>\n      <th></th>\n    </tr>\n  </thead>\n  <tbody>\n    <tr>\n      <th>0</th>\n      <td>1.182101e+07</td>\n      <td>6.986199e+06</td>\n      <td>1.182658e+07</td>\n      <td>6.989187e+06</td>\n    </tr>\n  </tbody>\n</table>\n</div>"
     },
     "execution_count": 7,
     "metadata": {},
     "output_type": "execute_result"
    }
   ],
   "source": [
    "world_size.bounds"
   ],
   "metadata": {
    "collapsed": false,
    "pycharm": {
     "name": "#%%\n"
    }
   }
  },
  {
   "cell_type": "code",
   "execution_count": 7,
   "outputs": [],
   "source": [
    "netlogo_min_pxcor, netlogo_max_pxcor = 0, 79\n",
    "netlogo_min_pycor, netlogo_max_pycor = 0, 39"
   ],
   "metadata": {
    "collapsed": false,
    "pycharm": {
     "name": "#%%\n"
    }
   }
  }
 ],
 "metadata": {
  "kernelspec": {
   "display_name": "Python 3",
   "language": "python",
   "name": "python3"
  },
  "language_info": {
   "codemirror_mode": {
    "name": "ipython",
    "version": 2
   },
   "file_extension": ".py",
   "mimetype": "text/x-python",
   "name": "python",
   "nbconvert_exporter": "python",
   "pygments_lexer": "ipython2",
   "version": "2.7.6"
  }
 },
 "nbformat": 4,
 "nbformat_minor": 0
}